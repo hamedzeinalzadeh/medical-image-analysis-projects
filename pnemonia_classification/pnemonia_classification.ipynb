{
 "cells": [
  {
   "cell_type": "markdown",
   "id": "ee6d726a-b8c2-44c7-a9db-1e655c87da47",
   "metadata": {},
   "source": [
    "# Pnemonia Classifications\n",
    "The purpose of this project is to identify signs of pnemonia in X-Ray images."
   ]
  },
  {
   "cell_type": "markdown",
   "id": "6745d3b1-c1eb-4d57-a306-e413df0db0d7",
   "metadata": {},
   "source": [
    "### Imports"
   ]
  },
  {
   "cell_type": "code",
   "execution_count": null,
   "id": "b18f0fda-fec4-4459-82a6-1b319b3b5633",
   "metadata": {},
   "outputs": [],
   "source": [
    "import numpy as np\n",
    "import pandas as pd\n",
    "import cv2\n",
    "from pathlib import Path\n",
    "import pydicom   # To read dicom files\n",
    "import mathplotlib.pyplot as plt\n",
    "from tqdm.notebook import tqdm"
   ]
  },
  {
   "cell_type": "code",
   "execution_count": null,
   "id": "2296a388-6567-4ca9-9870-ec33163492b5",
   "metadata": {},
   "outputs": [],
   "source": [
    "lables = pd.read_csv('stage_2_train_labels.csv')"
   ]
  }
 ],
 "metadata": {
  "kernelspec": {
   "display_name": "Python 3 (ipykernel)",
   "language": "python",
   "name": "python3"
  },
  "language_info": {
   "codemirror_mode": {
    "name": "ipython",
    "version": 3
   },
   "file_extension": ".py",
   "mimetype": "text/x-python",
   "name": "python",
   "nbconvert_exporter": "python",
   "pygments_lexer": "ipython3",
   "version": "3.10.4"
  }
 },
 "nbformat": 4,
 "nbformat_minor": 5
}
